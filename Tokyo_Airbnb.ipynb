{
 "cells": [
  {
   "cell_type": "code",
   "execution_count": 1,
   "metadata": {},
   "outputs": [],
   "source": [
    "# mporting libaries \n",
    "import numpy as np\n",
    "import pandas as pd"
   ]
  },
  {
   "cell_type": "markdown",
   "metadata": {},
   "source": [
    "* Numpy = Numerical computation with python\n",
    "* Pandas = Data manipulation"
   ]
  },
  {
   "cell_type": "code",
   "execution_count": 2,
   "metadata": {},
   "outputs": [],
   "source": [
    "# Libaries for plotting and visualization\n",
    "import matplotlib.pyplot as plt\n",
    "import seaborn as sns"
   ]
  },
  {
   "cell_type": "code",
   "execution_count": 3,
   "metadata": {},
   "outputs": [],
   "source": [
    "# Loading listind.csv\n",
    "listing_df = pd.read_csv('listings.csv')"
   ]
  },
  {
   "cell_type": "code",
   "execution_count": 4,
   "metadata": {},
   "outputs": [
    {
     "data": {
      "text/plain": [
       "(15352, 16)"
      ]
     },
     "execution_count": 4,
     "metadata": {},
     "output_type": "execute_result"
    }
   ],
   "source": [
    "listing_df.shape"
   ]
  },
  {
   "cell_type": "code",
   "execution_count": 5,
   "metadata": {},
   "outputs": [
    {
     "data": {
      "text/html": [
       "<div>\n",
       "<style scoped>\n",
       "    .dataframe tbody tr th:only-of-type {\n",
       "        vertical-align: middle;\n",
       "    }\n",
       "\n",
       "    .dataframe tbody tr th {\n",
       "        vertical-align: top;\n",
       "    }\n",
       "\n",
       "    .dataframe thead th {\n",
       "        text-align: right;\n",
       "    }\n",
       "</style>\n",
       "<table border=\"1\" class=\"dataframe\">\n",
       "  <thead>\n",
       "    <tr style=\"text-align: right;\">\n",
       "      <th></th>\n",
       "      <th>id</th>\n",
       "      <th>name</th>\n",
       "      <th>host_id</th>\n",
       "      <th>host_name</th>\n",
       "      <th>neighbourhood_group</th>\n",
       "      <th>neighbourhood</th>\n",
       "      <th>latitude</th>\n",
       "      <th>longitude</th>\n",
       "      <th>room_type</th>\n",
       "      <th>price</th>\n",
       "      <th>minimum_nights</th>\n",
       "      <th>number_of_reviews</th>\n",
       "      <th>last_review</th>\n",
       "      <th>reviews_per_month</th>\n",
       "      <th>calculated_host_listings_count</th>\n",
       "      <th>availability_365</th>\n",
       "    </tr>\n",
       "  </thead>\n",
       "  <tbody>\n",
       "    <tr>\n",
       "      <th>0</th>\n",
       "      <td>35303</td>\n",
       "      <td>La Casa Gaienmae C Harajuku, Omotesando is nearby</td>\n",
       "      <td>151977</td>\n",
       "      <td>Miyuki</td>\n",
       "      <td>NaN</td>\n",
       "      <td>Shibuya Ku</td>\n",
       "      <td>35.67152</td>\n",
       "      <td>139.71203</td>\n",
       "      <td>Private room</td>\n",
       "      <td>4183</td>\n",
       "      <td>28</td>\n",
       "      <td>18</td>\n",
       "      <td>2018-07-28</td>\n",
       "      <td>0.18</td>\n",
       "      <td>3</td>\n",
       "      <td>89</td>\n",
       "    </tr>\n",
       "    <tr>\n",
       "      <th>1</th>\n",
       "      <td>197677</td>\n",
       "      <td>Oshiage Holiday Apartment</td>\n",
       "      <td>964081</td>\n",
       "      <td>Yoshimi &amp; Marek</td>\n",
       "      <td>NaN</td>\n",
       "      <td>Sumida Ku</td>\n",
       "      <td>35.71721</td>\n",
       "      <td>139.82596</td>\n",
       "      <td>Entire home/apt</td>\n",
       "      <td>11048</td>\n",
       "      <td>3</td>\n",
       "      <td>165</td>\n",
       "      <td>2020-03-04</td>\n",
       "      <td>1.57</td>\n",
       "      <td>1</td>\n",
       "      <td>271</td>\n",
       "    </tr>\n",
       "    <tr>\n",
       "      <th>2</th>\n",
       "      <td>289597</td>\n",
       "      <td>Private apt in central Tokyo #203</td>\n",
       "      <td>341577</td>\n",
       "      <td>Hide&amp;Kei</td>\n",
       "      <td>NaN</td>\n",
       "      <td>Nerima Ku</td>\n",
       "      <td>35.74267</td>\n",
       "      <td>139.65810</td>\n",
       "      <td>Entire home/apt</td>\n",
       "      <td>4171</td>\n",
       "      <td>28</td>\n",
       "      <td>113</td>\n",
       "      <td>2020-02-17</td>\n",
       "      <td>1.18</td>\n",
       "      <td>2</td>\n",
       "      <td>241</td>\n",
       "    </tr>\n",
       "    <tr>\n",
       "      <th>3</th>\n",
       "      <td>370759</td>\n",
       "      <td>Cozy flat #203, local area YET 10 mins to shib...</td>\n",
       "      <td>1573631</td>\n",
       "      <td>Gilles,Mayumi,Taiki</td>\n",
       "      <td>NaN</td>\n",
       "      <td>Setagaya Ku</td>\n",
       "      <td>35.66443</td>\n",
       "      <td>139.65707</td>\n",
       "      <td>Entire home/apt</td>\n",
       "      <td>6952</td>\n",
       "      <td>28</td>\n",
       "      <td>103</td>\n",
       "      <td>2020-04-16</td>\n",
       "      <td>1.39</td>\n",
       "      <td>3</td>\n",
       "      <td>364</td>\n",
       "    </tr>\n",
       "    <tr>\n",
       "      <th>4</th>\n",
       "      <td>700253</td>\n",
       "      <td>Private apt in central Tokyo #201</td>\n",
       "      <td>341577</td>\n",
       "      <td>Hide&amp;Kei</td>\n",
       "      <td>NaN</td>\n",
       "      <td>Nerima Ku</td>\n",
       "      <td>35.74264</td>\n",
       "      <td>139.65832</td>\n",
       "      <td>Entire home/apt</td>\n",
       "      <td>3957</td>\n",
       "      <td>28</td>\n",
       "      <td>103</td>\n",
       "      <td>2019-10-04</td>\n",
       "      <td>1.12</td>\n",
       "      <td>2</td>\n",
       "      <td>340</td>\n",
       "    </tr>\n",
       "  </tbody>\n",
       "</table>\n",
       "</div>"
      ],
      "text/plain": [
       "       id                                               name  host_id  \\\n",
       "0   35303  La Casa Gaienmae C Harajuku, Omotesando is nearby   151977   \n",
       "1  197677                          Oshiage Holiday Apartment   964081   \n",
       "2  289597                  Private apt in central Tokyo #203   341577   \n",
       "3  370759  Cozy flat #203, local area YET 10 mins to shib...  1573631   \n",
       "4  700253                  Private apt in central Tokyo #201   341577   \n",
       "\n",
       "             host_name  neighbourhood_group neighbourhood  latitude  \\\n",
       "0               Miyuki                  NaN    Shibuya Ku  35.67152   \n",
       "1      Yoshimi & Marek                  NaN     Sumida Ku  35.71721   \n",
       "2             Hide&Kei                  NaN     Nerima Ku  35.74267   \n",
       "3  Gilles,Mayumi,Taiki                  NaN   Setagaya Ku  35.66443   \n",
       "4             Hide&Kei                  NaN     Nerima Ku  35.74264   \n",
       "\n",
       "   longitude        room_type  price  minimum_nights  number_of_reviews  \\\n",
       "0  139.71203     Private room   4183              28                 18   \n",
       "1  139.82596  Entire home/apt  11048               3                165   \n",
       "2  139.65810  Entire home/apt   4171              28                113   \n",
       "3  139.65707  Entire home/apt   6952              28                103   \n",
       "4  139.65832  Entire home/apt   3957              28                103   \n",
       "\n",
       "  last_review  reviews_per_month  calculated_host_listings_count  \\\n",
       "0  2018-07-28               0.18                               3   \n",
       "1  2020-03-04               1.57                               1   \n",
       "2  2020-02-17               1.18                               2   \n",
       "3  2020-04-16               1.39                               3   \n",
       "4  2019-10-04               1.12                               2   \n",
       "\n",
       "   availability_365  \n",
       "0                89  \n",
       "1               271  \n",
       "2               241  \n",
       "3               364  \n",
       "4               340  "
      ]
     },
     "execution_count": 5,
     "metadata": {},
     "output_type": "execute_result"
    }
   ],
   "source": [
    "listing_df.head()"
   ]
  },
  {
   "cell_type": "code",
   "execution_count": 6,
   "metadata": {},
   "outputs": [
    {
     "data": {
      "text/html": [
       "<div>\n",
       "<style scoped>\n",
       "    .dataframe tbody tr th:only-of-type {\n",
       "        vertical-align: middle;\n",
       "    }\n",
       "\n",
       "    .dataframe tbody tr th {\n",
       "        vertical-align: top;\n",
       "    }\n",
       "\n",
       "    .dataframe thead th {\n",
       "        text-align: right;\n",
       "    }\n",
       "</style>\n",
       "<table border=\"1\" class=\"dataframe\">\n",
       "  <thead>\n",
       "    <tr style=\"text-align: right;\">\n",
       "      <th></th>\n",
       "      <th>id</th>\n",
       "      <th>name</th>\n",
       "      <th>host_id</th>\n",
       "      <th>host_name</th>\n",
       "      <th>neighbourhood_group</th>\n",
       "      <th>neighbourhood</th>\n",
       "      <th>latitude</th>\n",
       "      <th>longitude</th>\n",
       "      <th>room_type</th>\n",
       "      <th>price</th>\n",
       "      <th>minimum_nights</th>\n",
       "      <th>number_of_reviews</th>\n",
       "      <th>last_review</th>\n",
       "      <th>reviews_per_month</th>\n",
       "      <th>calculated_host_listings_count</th>\n",
       "      <th>availability_365</th>\n",
       "    </tr>\n",
       "  </thead>\n",
       "  <tbody>\n",
       "    <tr>\n",
       "      <th>15347</th>\n",
       "      <td>43260549</td>\n",
       "      <td>Double room/shared bathroom/near Akihabara, Ueno</td>\n",
       "      <td>191971770</td>\n",
       "      <td>Hostel</td>\n",
       "      <td>NaN</td>\n",
       "      <td>Chiyoda Ku</td>\n",
       "      <td>35.69129</td>\n",
       "      <td>139.77351</td>\n",
       "      <td>Private room</td>\n",
       "      <td>5027</td>\n",
       "      <td>1</td>\n",
       "      <td>0</td>\n",
       "      <td>NaN</td>\n",
       "      <td>NaN</td>\n",
       "      <td>4</td>\n",
       "      <td>119</td>\n",
       "    </tr>\n",
       "    <tr>\n",
       "      <th>15348</th>\n",
       "      <td>43260684</td>\n",
       "      <td>Twin room/shared bathroom/near Akihabara,Ueno</td>\n",
       "      <td>191971770</td>\n",
       "      <td>Hostel</td>\n",
       "      <td>NaN</td>\n",
       "      <td>Chiyoda Ku</td>\n",
       "      <td>35.69161</td>\n",
       "      <td>139.77422</td>\n",
       "      <td>Private room</td>\n",
       "      <td>5455</td>\n",
       "      <td>1</td>\n",
       "      <td>0</td>\n",
       "      <td>NaN</td>\n",
       "      <td>NaN</td>\n",
       "      <td>4</td>\n",
       "      <td>96</td>\n",
       "    </tr>\n",
       "    <tr>\n",
       "      <th>15349</th>\n",
       "      <td>43272924</td>\n",
       "      <td>【ﾏﾝｽﾘｰ限定】 お一人様専用</td>\n",
       "      <td>335257890</td>\n",
       "      <td>Blue</td>\n",
       "      <td>NaN</td>\n",
       "      <td>Shinjuku Ku</td>\n",
       "      <td>35.69960</td>\n",
       "      <td>139.69753</td>\n",
       "      <td>Private room</td>\n",
       "      <td>6972</td>\n",
       "      <td>28</td>\n",
       "      <td>0</td>\n",
       "      <td>NaN</td>\n",
       "      <td>NaN</td>\n",
       "      <td>10</td>\n",
       "      <td>95</td>\n",
       "    </tr>\n",
       "    <tr>\n",
       "      <th>15350</th>\n",
       "      <td>43281694</td>\n",
       "      <td>代々木駅徒歩2分 新宿駅徒歩8分 渋谷区</td>\n",
       "      <td>333948576</td>\n",
       "      <td>Kido</td>\n",
       "      <td>NaN</td>\n",
       "      <td>Shibuya Ku</td>\n",
       "      <td>35.68238</td>\n",
       "      <td>139.70195</td>\n",
       "      <td>Entire home/apt</td>\n",
       "      <td>24992</td>\n",
       "      <td>1</td>\n",
       "      <td>0</td>\n",
       "      <td>NaN</td>\n",
       "      <td>NaN</td>\n",
       "      <td>1</td>\n",
       "      <td>176</td>\n",
       "    </tr>\n",
       "    <tr>\n",
       "      <th>15351</th>\n",
       "      <td>43286916</td>\n",
       "      <td>japanese house in shinjuku</td>\n",
       "      <td>341561924</td>\n",
       "      <td>Puchi</td>\n",
       "      <td>NaN</td>\n",
       "      <td>Shinjuku Ku</td>\n",
       "      <td>35.70423</td>\n",
       "      <td>139.72478</td>\n",
       "      <td>Entire home/apt</td>\n",
       "      <td>25028</td>\n",
       "      <td>1</td>\n",
       "      <td>0</td>\n",
       "      <td>NaN</td>\n",
       "      <td>NaN</td>\n",
       "      <td>1</td>\n",
       "      <td>365</td>\n",
       "    </tr>\n",
       "  </tbody>\n",
       "</table>\n",
       "</div>"
      ],
      "text/plain": [
       "             id                                              name    host_id  \\\n",
       "15347  43260549  Double room/shared bathroom/near Akihabara, Ueno  191971770   \n",
       "15348  43260684     Twin room/shared bathroom/near Akihabara,Ueno  191971770   \n",
       "15349  43272924                                  【ﾏﾝｽﾘｰ限定】 お一人様専用  335257890   \n",
       "15350  43281694                              代々木駅徒歩2分 新宿駅徒歩8分 渋谷区  333948576   \n",
       "15351  43286916                        japanese house in shinjuku  341561924   \n",
       "\n",
       "      host_name  neighbourhood_group neighbourhood  latitude  longitude  \\\n",
       "15347    Hostel                  NaN    Chiyoda Ku  35.69129  139.77351   \n",
       "15348    Hostel                  NaN    Chiyoda Ku  35.69161  139.77422   \n",
       "15349      Blue                  NaN   Shinjuku Ku  35.69960  139.69753   \n",
       "15350      Kido                  NaN    Shibuya Ku  35.68238  139.70195   \n",
       "15351     Puchi                  NaN   Shinjuku Ku  35.70423  139.72478   \n",
       "\n",
       "             room_type  price  minimum_nights  number_of_reviews last_review  \\\n",
       "15347     Private room   5027               1                  0         NaN   \n",
       "15348     Private room   5455               1                  0         NaN   \n",
       "15349     Private room   6972              28                  0         NaN   \n",
       "15350  Entire home/apt  24992               1                  0         NaN   \n",
       "15351  Entire home/apt  25028               1                  0         NaN   \n",
       "\n",
       "       reviews_per_month  calculated_host_listings_count  availability_365  \n",
       "15347                NaN                               4               119  \n",
       "15348                NaN                               4                96  \n",
       "15349                NaN                              10                95  \n",
       "15350                NaN                               1               176  \n",
       "15351                NaN                               1               365  "
      ]
     },
     "execution_count": 6,
     "metadata": {},
     "output_type": "execute_result"
    }
   ],
   "source": [
    "listing_df.tail()"
   ]
  },
  {
   "cell_type": "code",
   "execution_count": 7,
   "metadata": {},
   "outputs": [
    {
     "data": {
      "text/html": [
       "<div>\n",
       "<style scoped>\n",
       "    .dataframe tbody tr th:only-of-type {\n",
       "        vertical-align: middle;\n",
       "    }\n",
       "\n",
       "    .dataframe tbody tr th {\n",
       "        vertical-align: top;\n",
       "    }\n",
       "\n",
       "    .dataframe thead th {\n",
       "        text-align: right;\n",
       "    }\n",
       "</style>\n",
       "<table border=\"1\" class=\"dataframe\">\n",
       "  <thead>\n",
       "    <tr style=\"text-align: right;\">\n",
       "      <th></th>\n",
       "      <th>id</th>\n",
       "      <th>host_id</th>\n",
       "      <th>neighbourhood_group</th>\n",
       "      <th>latitude</th>\n",
       "      <th>longitude</th>\n",
       "      <th>price</th>\n",
       "      <th>minimum_nights</th>\n",
       "      <th>number_of_reviews</th>\n",
       "      <th>reviews_per_month</th>\n",
       "      <th>calculated_host_listings_count</th>\n",
       "      <th>availability_365</th>\n",
       "    </tr>\n",
       "  </thead>\n",
       "  <tbody>\n",
       "    <tr>\n",
       "      <th>count</th>\n",
       "      <td>1.535200e+04</td>\n",
       "      <td>1.535200e+04</td>\n",
       "      <td>0.0</td>\n",
       "      <td>15352.000000</td>\n",
       "      <td>15352.000000</td>\n",
       "      <td>1.535200e+04</td>\n",
       "      <td>15352.000000</td>\n",
       "      <td>15352.000000</td>\n",
       "      <td>12742.000000</td>\n",
       "      <td>15352.000000</td>\n",
       "      <td>15352.000000</td>\n",
       "    </tr>\n",
       "    <tr>\n",
       "      <th>mean</th>\n",
       "      <td>3.167375e+07</td>\n",
       "      <td>1.704850e+08</td>\n",
       "      <td>NaN</td>\n",
       "      <td>35.694985</td>\n",
       "      <td>139.735174</td>\n",
       "      <td>2.624158e+04</td>\n",
       "      <td>3.293968</td>\n",
       "      <td>26.542731</td>\n",
       "      <td>1.695281</td>\n",
       "      <td>13.434732</td>\n",
       "      <td>155.732348</td>\n",
       "    </tr>\n",
       "    <tr>\n",
       "      <th>std</th>\n",
       "      <td>9.319600e+06</td>\n",
       "      <td>9.954602e+07</td>\n",
       "      <td>NaN</td>\n",
       "      <td>0.142427</td>\n",
       "      <td>0.081392</td>\n",
       "      <td>7.636344e+04</td>\n",
       "      <td>9.114849</td>\n",
       "      <td>40.566386</td>\n",
       "      <td>1.365650</td>\n",
       "      <td>15.399161</td>\n",
       "      <td>115.567651</td>\n",
       "    </tr>\n",
       "    <tr>\n",
       "      <th>min</th>\n",
       "      <td>3.530300e+04</td>\n",
       "      <td>1.519770e+05</td>\n",
       "      <td>NaN</td>\n",
       "      <td>27.072330</td>\n",
       "      <td>139.123190</td>\n",
       "      <td>0.000000e+00</td>\n",
       "      <td>1.000000</td>\n",
       "      <td>0.000000</td>\n",
       "      <td>0.020000</td>\n",
       "      <td>1.000000</td>\n",
       "      <td>0.000000</td>\n",
       "    </tr>\n",
       "    <tr>\n",
       "      <th>25%</th>\n",
       "      <td>2.658525e+07</td>\n",
       "      <td>7.075525e+07</td>\n",
       "      <td>NaN</td>\n",
       "      <td>35.686230</td>\n",
       "      <td>139.699457</td>\n",
       "      <td>6.952000e+03</td>\n",
       "      <td>1.000000</td>\n",
       "      <td>2.000000</td>\n",
       "      <td>0.690000</td>\n",
       "      <td>3.000000</td>\n",
       "      <td>63.000000</td>\n",
       "    </tr>\n",
       "    <tr>\n",
       "      <th>50%</th>\n",
       "      <td>3.343554e+07</td>\n",
       "      <td>1.865996e+08</td>\n",
       "      <td>NaN</td>\n",
       "      <td>35.703020</td>\n",
       "      <td>139.728075</td>\n",
       "      <td>1.197900e+04</td>\n",
       "      <td>1.000000</td>\n",
       "      <td>11.000000</td>\n",
       "      <td>1.500000</td>\n",
       "      <td>8.000000</td>\n",
       "      <td>150.000000</td>\n",
       "    </tr>\n",
       "    <tr>\n",
       "      <th>75%</th>\n",
       "      <td>3.947100e+07</td>\n",
       "      <td>2.528881e+08</td>\n",
       "      <td>NaN</td>\n",
       "      <td>35.725082</td>\n",
       "      <td>139.785050</td>\n",
       "      <td>2.000100e+04</td>\n",
       "      <td>2.000000</td>\n",
       "      <td>34.000000</td>\n",
       "      <td>2.400000</td>\n",
       "      <td>18.000000</td>\n",
       "      <td>247.000000</td>\n",
       "    </tr>\n",
       "    <tr>\n",
       "      <th>max</th>\n",
       "      <td>4.328692e+07</td>\n",
       "      <td>3.442701e+08</td>\n",
       "      <td>NaN</td>\n",
       "      <td>35.832430</td>\n",
       "      <td>142.202880</td>\n",
       "      <td>1.000053e+06</td>\n",
       "      <td>365.000000</td>\n",
       "      <td>529.000000</td>\n",
       "      <td>43.600000</td>\n",
       "      <td>98.000000</td>\n",
       "      <td>365.000000</td>\n",
       "    </tr>\n",
       "  </tbody>\n",
       "</table>\n",
       "</div>"
      ],
      "text/plain": [
       "                 id       host_id  neighbourhood_group      latitude  \\\n",
       "count  1.535200e+04  1.535200e+04                  0.0  15352.000000   \n",
       "mean   3.167375e+07  1.704850e+08                  NaN     35.694985   \n",
       "std    9.319600e+06  9.954602e+07                  NaN      0.142427   \n",
       "min    3.530300e+04  1.519770e+05                  NaN     27.072330   \n",
       "25%    2.658525e+07  7.075525e+07                  NaN     35.686230   \n",
       "50%    3.343554e+07  1.865996e+08                  NaN     35.703020   \n",
       "75%    3.947100e+07  2.528881e+08                  NaN     35.725082   \n",
       "max    4.328692e+07  3.442701e+08                  NaN     35.832430   \n",
       "\n",
       "          longitude         price  minimum_nights  number_of_reviews  \\\n",
       "count  15352.000000  1.535200e+04    15352.000000       15352.000000   \n",
       "mean     139.735174  2.624158e+04        3.293968          26.542731   \n",
       "std        0.081392  7.636344e+04        9.114849          40.566386   \n",
       "min      139.123190  0.000000e+00        1.000000           0.000000   \n",
       "25%      139.699457  6.952000e+03        1.000000           2.000000   \n",
       "50%      139.728075  1.197900e+04        1.000000          11.000000   \n",
       "75%      139.785050  2.000100e+04        2.000000          34.000000   \n",
       "max      142.202880  1.000053e+06      365.000000         529.000000   \n",
       "\n",
       "       reviews_per_month  calculated_host_listings_count  availability_365  \n",
       "count       12742.000000                    15352.000000      15352.000000  \n",
       "mean            1.695281                       13.434732        155.732348  \n",
       "std             1.365650                       15.399161        115.567651  \n",
       "min             0.020000                        1.000000          0.000000  \n",
       "25%             0.690000                        3.000000         63.000000  \n",
       "50%             1.500000                        8.000000        150.000000  \n",
       "75%             2.400000                       18.000000        247.000000  \n",
       "max            43.600000                       98.000000        365.000000  "
      ]
     },
     "execution_count": 7,
     "metadata": {},
     "output_type": "execute_result"
    }
   ],
   "source": [
    "listing_df.describe()"
   ]
  },
  {
   "cell_type": "code",
   "execution_count": 8,
   "metadata": {},
   "outputs": [
    {
     "name": "stdout",
     "output_type": "stream",
     "text": [
      "<class 'pandas.core.frame.DataFrame'>\n",
      "RangeIndex: 15352 entries, 0 to 15351\n",
      "Data columns (total 16 columns):\n",
      " #   Column                          Non-Null Count  Dtype  \n",
      "---  ------                          --------------  -----  \n",
      " 0   id                              15352 non-null  int64  \n",
      " 1   name                            15352 non-null  object \n",
      " 2   host_id                         15352 non-null  int64  \n",
      " 3   host_name                       15341 non-null  object \n",
      " 4   neighbourhood_group             0 non-null      float64\n",
      " 5   neighbourhood                   15352 non-null  object \n",
      " 6   latitude                        15352 non-null  float64\n",
      " 7   longitude                       15352 non-null  float64\n",
      " 8   room_type                       15352 non-null  object \n",
      " 9   price                           15352 non-null  int64  \n",
      " 10  minimum_nights                  15352 non-null  int64  \n",
      " 11  number_of_reviews               15352 non-null  int64  \n",
      " 12  last_review                     12742 non-null  object \n",
      " 13  reviews_per_month               12742 non-null  float64\n",
      " 14  calculated_host_listings_count  15352 non-null  int64  \n",
      " 15  availability_365                15352 non-null  int64  \n",
      "dtypes: float64(4), int64(7), object(5)\n",
      "memory usage: 1.6+ MB\n"
     ]
    }
   ],
   "source": [
    "listing_df.info()"
   ]
  },
  {
   "cell_type": "code",
   "execution_count": 9,
   "metadata": {},
   "outputs": [
    {
     "data": {
      "text/plain": [
       "id                                    0\n",
       "name                                  0\n",
       "host_id                               0\n",
       "host_name                            11\n",
       "neighbourhood_group               15352\n",
       "neighbourhood                         0\n",
       "latitude                              0\n",
       "longitude                             0\n",
       "room_type                             0\n",
       "price                                 0\n",
       "minimum_nights                        0\n",
       "number_of_reviews                     0\n",
       "last_review                        2610\n",
       "reviews_per_month                  2610\n",
       "calculated_host_listings_count        0\n",
       "availability_365                      0\n",
       "dtype: int64"
      ]
     },
     "execution_count": 9,
     "metadata": {},
     "output_type": "execute_result"
    }
   ],
   "source": [
    "listing_df.isnull().sum()"
   ]
  },
  {
   "cell_type": "code",
   "execution_count": 10,
   "metadata": {},
   "outputs": [
    {
     "data": {
      "text/plain": [
       "id                                0.000000\n",
       "name                              0.000000\n",
       "host_id                           0.000000\n",
       "host_name                         0.000717\n",
       "neighbourhood_group               1.000000\n",
       "neighbourhood                     0.000000\n",
       "latitude                          0.000000\n",
       "longitude                         0.000000\n",
       "room_type                         0.000000\n",
       "price                             0.000000\n",
       "minimum_nights                    0.000000\n",
       "number_of_reviews                 0.000000\n",
       "last_review                       0.170010\n",
       "reviews_per_month                 0.170010\n",
       "calculated_host_listings_count    0.000000\n",
       "availability_365                  0.000000\n",
       "dtype: float64"
      ]
     },
     "execution_count": 10,
     "metadata": {},
     "output_type": "execute_result"
    }
   ],
   "source": [
    "listing_df.isnull().mean()"
   ]
  },
  {
   "cell_type": "code",
   "execution_count": 11,
   "metadata": {},
   "outputs": [
    {
     "data": {
      "text/plain": [
       "int64      7\n",
       "object     5\n",
       "float64    4\n",
       "dtype: int64"
      ]
     },
     "execution_count": 11,
     "metadata": {},
     "output_type": "execute_result"
    }
   ],
   "source": [
    "listing_df.dtypes.value_counts()"
   ]
  },
  {
   "cell_type": "code",
   "execution_count": 12,
   "metadata": {},
   "outputs": [
    {
     "data": {
      "text/plain": [
       "Index(['host_name', 'neighbourhood_group', 'last_review', 'reviews_per_month'], dtype='object')"
      ]
     },
     "execution_count": 12,
     "metadata": {},
     "output_type": "execute_result"
    }
   ],
   "source": [
    "listing_df.columns[listing_df.isnull().mean()!=0]"
   ]
  },
  {
   "cell_type": "code",
   "execution_count": 13,
   "metadata": {},
   "outputs": [],
   "source": [
    "null_df = listing_df[['host_name', 'neighbourhood_group', 'last_review', 'reviews_per_month']]"
   ]
  },
  {
   "cell_type": "code",
   "execution_count": 14,
   "metadata": {},
   "outputs": [
    {
     "name": "stderr",
     "output_type": "stream",
     "text": [
      "C:\\ProgramData\\Miniconda3\\lib\\site-packages\\pandas\\core\\frame.py:3997: SettingWithCopyWarning: \n",
      "A value is trying to be set on a copy of a slice from a DataFrame\n",
      "\n",
      "See the caveats in the documentation: https://pandas.pydata.org/pandas-docs/stable/user_guide/indexing.html#returning-a-view-versus-a-copy\n",
      "  errors=errors,\n"
     ]
    }
   ],
   "source": [
    "null_df.drop( columns=['neighbourhood_group'],inplace=True)"
   ]
  },
  {
   "cell_type": "code",
   "execution_count": 15,
   "metadata": {},
   "outputs": [
    {
     "data": {
      "text/html": [
       "<div>\n",
       "<style scoped>\n",
       "    .dataframe tbody tr th:only-of-type {\n",
       "        vertical-align: middle;\n",
       "    }\n",
       "\n",
       "    .dataframe tbody tr th {\n",
       "        vertical-align: top;\n",
       "    }\n",
       "\n",
       "    .dataframe thead th {\n",
       "        text-align: right;\n",
       "    }\n",
       "</style>\n",
       "<table border=\"1\" class=\"dataframe\">\n",
       "  <thead>\n",
       "    <tr style=\"text-align: right;\">\n",
       "      <th></th>\n",
       "      <th>host_name</th>\n",
       "      <th>last_review</th>\n",
       "      <th>reviews_per_month</th>\n",
       "    </tr>\n",
       "  </thead>\n",
       "  <tbody>\n",
       "    <tr>\n",
       "      <th>0</th>\n",
       "      <td>Miyuki</td>\n",
       "      <td>2018-07-28</td>\n",
       "      <td>0.18</td>\n",
       "    </tr>\n",
       "    <tr>\n",
       "      <th>1</th>\n",
       "      <td>Yoshimi &amp; Marek</td>\n",
       "      <td>2020-03-04</td>\n",
       "      <td>1.57</td>\n",
       "    </tr>\n",
       "    <tr>\n",
       "      <th>2</th>\n",
       "      <td>Hide&amp;Kei</td>\n",
       "      <td>2020-02-17</td>\n",
       "      <td>1.18</td>\n",
       "    </tr>\n",
       "    <tr>\n",
       "      <th>3</th>\n",
       "      <td>Gilles,Mayumi,Taiki</td>\n",
       "      <td>2020-04-16</td>\n",
       "      <td>1.39</td>\n",
       "    </tr>\n",
       "    <tr>\n",
       "      <th>4</th>\n",
       "      <td>Hide&amp;Kei</td>\n",
       "      <td>2019-10-04</td>\n",
       "      <td>1.12</td>\n",
       "    </tr>\n",
       "    <tr>\n",
       "      <th>...</th>\n",
       "      <td>...</td>\n",
       "      <td>...</td>\n",
       "      <td>...</td>\n",
       "    </tr>\n",
       "    <tr>\n",
       "      <th>15347</th>\n",
       "      <td>Hostel</td>\n",
       "      <td>NaN</td>\n",
       "      <td>NaN</td>\n",
       "    </tr>\n",
       "    <tr>\n",
       "      <th>15348</th>\n",
       "      <td>Hostel</td>\n",
       "      <td>NaN</td>\n",
       "      <td>NaN</td>\n",
       "    </tr>\n",
       "    <tr>\n",
       "      <th>15349</th>\n",
       "      <td>Blue</td>\n",
       "      <td>NaN</td>\n",
       "      <td>NaN</td>\n",
       "    </tr>\n",
       "    <tr>\n",
       "      <th>15350</th>\n",
       "      <td>Kido</td>\n",
       "      <td>NaN</td>\n",
       "      <td>NaN</td>\n",
       "    </tr>\n",
       "    <tr>\n",
       "      <th>15351</th>\n",
       "      <td>Puchi</td>\n",
       "      <td>NaN</td>\n",
       "      <td>NaN</td>\n",
       "    </tr>\n",
       "  </tbody>\n",
       "</table>\n",
       "<p>15352 rows × 3 columns</p>\n",
       "</div>"
      ],
      "text/plain": [
       "                 host_name last_review  reviews_per_month\n",
       "0                   Miyuki  2018-07-28               0.18\n",
       "1          Yoshimi & Marek  2020-03-04               1.57\n",
       "2                 Hide&Kei  2020-02-17               1.18\n",
       "3      Gilles,Mayumi,Taiki  2020-04-16               1.39\n",
       "4                 Hide&Kei  2019-10-04               1.12\n",
       "...                    ...         ...                ...\n",
       "15347               Hostel         NaN                NaN\n",
       "15348               Hostel         NaN                NaN\n",
       "15349                 Blue         NaN                NaN\n",
       "15350                 Kido         NaN                NaN\n",
       "15351                Puchi         NaN                NaN\n",
       "\n",
       "[15352 rows x 3 columns]"
      ]
     },
     "execution_count": 15,
     "metadata": {},
     "output_type": "execute_result"
    }
   ],
   "source": [
    "null_df"
   ]
  },
  {
   "cell_type": "code",
   "execution_count": 16,
   "metadata": {},
   "outputs": [
    {
     "data": {
      "text/plain": [
       "reviews_per_month    2610\n",
       "last_review          2610\n",
       "host_name              11\n",
       "dtype: int64"
      ]
     },
     "execution_count": 16,
     "metadata": {},
     "output_type": "execute_result"
    }
   ],
   "source": [
    "null_df.isnull().sum().sort_values(ascending=False)"
   ]
  },
  {
   "cell_type": "code",
   "execution_count": 17,
   "metadata": {},
   "outputs": [
    {
     "data": {
      "text/plain": [
       "id    15352\n",
       "dtype: int64"
      ]
     },
     "execution_count": 17,
     "metadata": {},
     "output_type": "execute_result"
    }
   ],
   "source": [
    "listing_df.nunique()[listing_df.nunique()==len(listing_df)]"
   ]
  },
  {
   "cell_type": "code",
   "execution_count": 18,
   "metadata": {},
   "outputs": [
    {
     "data": {
      "text/plain": [
       "<matplotlib.axes._subplots.AxesSubplot at 0x1028abd0>"
      ]
     },
     "execution_count": 18,
     "metadata": {},
     "output_type": "execute_result"
    },
    {
     "data": {
      "image/png": "[encoded data removed]",
      "text/plain": [
       "<Figure size 432x288 with 1 Axes>"
      ]
     },
     "metadata": {
      "needs_background": "light"
     },
     "output_type": "display_data"
    }
   ],
   "source": [
    "listing_df['price'].plot(kind= 'hist',bins = 1000)"
   ]
  },
  {
   "cell_type": "code",
   "execution_count": 19,
   "metadata": {},
   "outputs": [
    {
     "data": {
      "text/plain": [
       "1000053"
      ]
     },
     "execution_count": 19,
     "metadata": {},
     "output_type": "execute_result"
    }
   ],
   "source": [
    "listing_df['price'].max()"
   ]
  },
  {
   "cell_type": "code",
   "execution_count": 20,
   "metadata": {},
   "outputs": [],
   "source": [
    "listing_df['price'] = listing_df['price'].apply(lambda X: X * 0.0093)"
   ]
  },
  {
   "cell_type": "code",
   "execution_count": 21,
   "metadata": {},
   "outputs": [
    {
     "data": {
      "text/html": [
       "<div>\n",
       "<style scoped>\n",
       "    .dataframe tbody tr th:only-of-type {\n",
       "        vertical-align: middle;\n",
       "    }\n",
       "\n",
       "    .dataframe tbody tr th {\n",
       "        vertical-align: top;\n",
       "    }\n",
       "\n",
       "    .dataframe thead th {\n",
       "        text-align: right;\n",
       "    }\n",
       "</style>\n",
       "<table border=\"1\" class=\"dataframe\">\n",
       "  <thead>\n",
       "    <tr style=\"text-align: right;\">\n",
       "      <th></th>\n",
       "      <th>id</th>\n",
       "      <th>name</th>\n",
       "      <th>host_id</th>\n",
       "      <th>host_name</th>\n",
       "      <th>neighbourhood_group</th>\n",
       "      <th>neighbourhood</th>\n",
       "      <th>latitude</th>\n",
       "      <th>longitude</th>\n",
       "      <th>room_type</th>\n",
       "      <th>price</th>\n",
       "      <th>minimum_nights</th>\n",
       "      <th>number_of_reviews</th>\n",
       "      <th>last_review</th>\n",
       "      <th>reviews_per_month</th>\n",
       "      <th>calculated_host_listings_count</th>\n",
       "      <th>availability_365</th>\n",
       "    </tr>\n",
       "  </thead>\n",
       "  <tbody>\n",
       "    <tr>\n",
       "      <th>0</th>\n",
       "      <td>35303</td>\n",
       "      <td>La Casa Gaienmae C Harajuku, Omotesando is nearby</td>\n",
       "      <td>151977</td>\n",
       "      <td>Miyuki</td>\n",
       "      <td>NaN</td>\n",
       "      <td>Shibuya Ku</td>\n",
       "      <td>35.67152</td>\n",
       "      <td>139.71203</td>\n",
       "      <td>Private room</td>\n",
       "      <td>38.9019</td>\n",
       "      <td>28</td>\n",
       "      <td>18</td>\n",
       "      <td>2018-07-28</td>\n",
       "      <td>0.18</td>\n",
       "      <td>3</td>\n",
       "      <td>89</td>\n",
       "    </tr>\n",
       "    <tr>\n",
       "      <th>1</th>\n",
       "      <td>197677</td>\n",
       "      <td>Oshiage Holiday Apartment</td>\n",
       "      <td>964081</td>\n",
       "      <td>Yoshimi &amp; Marek</td>\n",
       "      <td>NaN</td>\n",
       "      <td>Sumida Ku</td>\n",
       "      <td>35.71721</td>\n",
       "      <td>139.82596</td>\n",
       "      <td>Entire home/apt</td>\n",
       "      <td>102.7464</td>\n",
       "      <td>3</td>\n",
       "      <td>165</td>\n",
       "      <td>2020-03-04</td>\n",
       "      <td>1.57</td>\n",
       "      <td>1</td>\n",
       "      <td>271</td>\n",
       "    </tr>\n",
       "    <tr>\n",
       "      <th>2</th>\n",
       "      <td>289597</td>\n",
       "      <td>Private apt in central Tokyo #203</td>\n",
       "      <td>341577</td>\n",
       "      <td>Hide&amp;Kei</td>\n",
       "      <td>NaN</td>\n",
       "      <td>Nerima Ku</td>\n",
       "      <td>35.74267</td>\n",
       "      <td>139.65810</td>\n",
       "      <td>Entire home/apt</td>\n",
       "      <td>38.7903</td>\n",
       "      <td>28</td>\n",
       "      <td>113</td>\n",
       "      <td>2020-02-17</td>\n",
       "      <td>1.18</td>\n",
       "      <td>2</td>\n",
       "      <td>241</td>\n",
       "    </tr>\n",
       "    <tr>\n",
       "      <th>3</th>\n",
       "      <td>370759</td>\n",
       "      <td>Cozy flat #203, local area YET 10 mins to shib...</td>\n",
       "      <td>1573631</td>\n",
       "      <td>Gilles,Mayumi,Taiki</td>\n",
       "      <td>NaN</td>\n",
       "      <td>Setagaya Ku</td>\n",
       "      <td>35.66443</td>\n",
       "      <td>139.65707</td>\n",
       "      <td>Entire home/apt</td>\n",
       "      <td>64.6536</td>\n",
       "      <td>28</td>\n",
       "      <td>103</td>\n",
       "      <td>2020-04-16</td>\n",
       "      <td>1.39</td>\n",
       "      <td>3</td>\n",
       "      <td>364</td>\n",
       "    </tr>\n",
       "    <tr>\n",
       "      <th>4</th>\n",
       "      <td>700253</td>\n",
       "      <td>Private apt in central Tokyo #201</td>\n",
       "      <td>341577</td>\n",
       "      <td>Hide&amp;Kei</td>\n",
       "      <td>NaN</td>\n",
       "      <td>Nerima Ku</td>\n",
       "      <td>35.74264</td>\n",
       "      <td>139.65832</td>\n",
       "      <td>Entire home/apt</td>\n",
       "      <td>36.8001</td>\n",
       "      <td>28</td>\n",
       "      <td>103</td>\n",
       "      <td>2019-10-04</td>\n",
       "      <td>1.12</td>\n",
       "      <td>2</td>\n",
       "      <td>340</td>\n",
       "    </tr>\n",
       "    <tr>\n",
       "      <th>...</th>\n",
       "      <td>...</td>\n",
       "      <td>...</td>\n",
       "      <td>...</td>\n",
       "      <td>...</td>\n",
       "      <td>...</td>\n",
       "      <td>...</td>\n",
       "      <td>...</td>\n",
       "      <td>...</td>\n",
       "      <td>...</td>\n",
       "      <td>...</td>\n",
       "      <td>...</td>\n",
       "      <td>...</td>\n",
       "      <td>...</td>\n",
       "      <td>...</td>\n",
       "      <td>...</td>\n",
       "      <td>...</td>\n",
       "    </tr>\n",
       "    <tr>\n",
       "      <th>15347</th>\n",
       "      <td>43260549</td>\n",
       "      <td>Double room/shared bathroom/near Akihabara, Ueno</td>\n",
       "      <td>191971770</td>\n",
       "      <td>Hostel</td>\n",
       "      <td>NaN</td>\n",
       "      <td>Chiyoda Ku</td>\n",
       "      <td>35.69129</td>\n",
       "      <td>139.77351</td>\n",
       "      <td>Private room</td>\n",
       "      <td>46.7511</td>\n",
       "      <td>1</td>\n",
       "      <td>0</td>\n",
       "      <td>NaN</td>\n",
       "      <td>NaN</td>\n",
       "      <td>4</td>\n",
       "      <td>119</td>\n",
       "    </tr>\n",
       "    <tr>\n",
       "      <th>15348</th>\n",
       "      <td>43260684</td>\n",
       "      <td>Twin room/shared bathroom/near Akihabara,Ueno</td>\n",
       "      <td>191971770</td>\n",
       "      <td>Hostel</td>\n",
       "      <td>NaN</td>\n",
       "      <td>Chiyoda Ku</td>\n",
       "      <td>35.69161</td>\n",
       "      <td>139.77422</td>\n",
       "      <td>Private room</td>\n",
       "      <td>50.7315</td>\n",
       "      <td>1</td>\n",
       "      <td>0</td>\n",
       "      <td>NaN</td>\n",
       "      <td>NaN</td>\n",
       "      <td>4</td>\n",
       "      <td>96</td>\n",
       "    </tr>\n",
       "    <tr>\n",
       "      <th>15349</th>\n",
       "      <td>43272924</td>\n",
       "      <td>【ﾏﾝｽﾘｰ限定】 お一人様専用</td>\n",
       "      <td>335257890</td>\n",
       "      <td>Blue</td>\n",
       "      <td>NaN</td>\n",
       "      <td>Shinjuku Ku</td>\n",
       "      <td>35.69960</td>\n",
       "      <td>139.69753</td>\n",
       "      <td>Private room</td>\n",
       "      <td>64.8396</td>\n",
       "      <td>28</td>\n",
       "      <td>0</td>\n",
       "      <td>NaN</td>\n",
       "      <td>NaN</td>\n",
       "      <td>10</td>\n",
       "      <td>95</td>\n",
       "    </tr>\n",
       "    <tr>\n",
       "      <th>15350</th>\n",
       "      <td>43281694</td>\n",
       "      <td>代々木駅徒歩2分 新宿駅徒歩8分 渋谷区</td>\n",
       "      <td>333948576</td>\n",
       "      <td>Kido</td>\n",
       "      <td>NaN</td>\n",
       "      <td>Shibuya Ku</td>\n",
       "      <td>35.68238</td>\n",
       "      <td>139.70195</td>\n",
       "      <td>Entire home/apt</td>\n",
       "      <td>232.4256</td>\n",
       "      <td>1</td>\n",
       "      <td>0</td>\n",
       "      <td>NaN</td>\n",
       "      <td>NaN</td>\n",
       "      <td>1</td>\n",
       "      <td>176</td>\n",
       "    </tr>\n",
       "    <tr>\n",
       "      <th>15351</th>\n",
       "      <td>43286916</td>\n",
       "      <td>japanese house in shinjuku</td>\n",
       "      <td>341561924</td>\n",
       "      <td>Puchi</td>\n",
       "      <td>NaN</td>\n",
       "      <td>Shinjuku Ku</td>\n",
       "      <td>35.70423</td>\n",
       "      <td>139.72478</td>\n",
       "      <td>Entire home/apt</td>\n",
       "      <td>232.7604</td>\n",
       "      <td>1</td>\n",
       "      <td>0</td>\n",
       "      <td>NaN</td>\n",
       "      <td>NaN</td>\n",
       "      <td>1</td>\n",
       "      <td>365</td>\n",
       "    </tr>\n",
       "  </tbody>\n",
       "</table>\n",
       "<p>15352 rows × 16 columns</p>\n",
       "</div>"
      ],
      "text/plain": [
       "             id                                               name    host_id  \\\n",
       "0         35303  La Casa Gaienmae C Harajuku, Omotesando is nearby     151977   \n",
       "1        197677                          Oshiage Holiday Apartment     964081   \n",
       "2        289597                  Private apt in central Tokyo #203     341577   \n",
       "3        370759  Cozy flat #203, local area YET 10 mins to shib...    1573631   \n",
       "4        700253                  Private apt in central Tokyo #201     341577   \n",
       "...         ...                                                ...        ...   \n",
       "15347  43260549   Double room/shared bathroom/near Akihabara, Ueno  191971770   \n",
       "15348  43260684      Twin room/shared bathroom/near Akihabara,Ueno  191971770   \n",
       "15349  43272924                                   【ﾏﾝｽﾘｰ限定】 お一人様専用  335257890   \n",
       "15350  43281694                               代々木駅徒歩2分 新宿駅徒歩8分 渋谷区  333948576   \n",
       "15351  43286916                         japanese house in shinjuku  341561924   \n",
       "\n",
       "                 host_name  neighbourhood_group neighbourhood  latitude  \\\n",
       "0                   Miyuki                  NaN    Shibuya Ku  35.67152   \n",
       "1          Yoshimi & Marek                  NaN     Sumida Ku  35.71721   \n",
       "2                 Hide&Kei                  NaN     Nerima Ku  35.74267   \n",
       "3      Gilles,Mayumi,Taiki                  NaN   Setagaya Ku  35.66443   \n",
       "4                 Hide&Kei                  NaN     Nerima Ku  35.74264   \n",
       "...                    ...                  ...           ...       ...   \n",
       "15347               Hostel                  NaN    Chiyoda Ku  35.69129   \n",
       "15348               Hostel                  NaN    Chiyoda Ku  35.69161   \n",
       "15349                 Blue                  NaN   Shinjuku Ku  35.69960   \n",
       "15350                 Kido                  NaN    Shibuya Ku  35.68238   \n",
       "15351                Puchi                  NaN   Shinjuku Ku  35.70423   \n",
       "\n",
       "       longitude        room_type     price  minimum_nights  \\\n",
       "0      139.71203     Private room   38.9019              28   \n",
       "1      139.82596  Entire home/apt  102.7464               3   \n",
       "2      139.65810  Entire home/apt   38.7903              28   \n",
       "3      139.65707  Entire home/apt   64.6536              28   \n",
       "4      139.65832  Entire home/apt   36.8001              28   \n",
       "...          ...              ...       ...             ...   \n",
       "15347  139.77351     Private room   46.7511               1   \n",
       "15348  139.77422     Private room   50.7315               1   \n",
       "15349  139.69753     Private room   64.8396              28   \n",
       "15350  139.70195  Entire home/apt  232.4256               1   \n",
       "15351  139.72478  Entire home/apt  232.7604               1   \n",
       "\n",
       "       number_of_reviews last_review  reviews_per_month  \\\n",
       "0                     18  2018-07-28               0.18   \n",
       "1                    165  2020-03-04               1.57   \n",
       "2                    113  2020-02-17               1.18   \n",
       "3                    103  2020-04-16               1.39   \n",
       "4                    103  2019-10-04               1.12   \n",
       "...                  ...         ...                ...   \n",
       "15347                  0         NaN                NaN   \n",
       "15348                  0         NaN                NaN   \n",
       "15349                  0         NaN                NaN   \n",
       "15350                  0         NaN                NaN   \n",
       "15351                  0         NaN                NaN   \n",
       "\n",
       "       calculated_host_listings_count  availability_365  \n",
       "0                                   3                89  \n",
       "1                                   1               271  \n",
       "2                                   2               241  \n",
       "3                                   3               364  \n",
       "4                                   2               340  \n",
       "...                               ...               ...  \n",
       "15347                               4               119  \n",
       "15348                               4                96  \n",
       "15349                              10                95  \n",
       "15350                               1               176  \n",
       "15351                               1               365  \n",
       "\n",
       "[15352 rows x 16 columns]"
      ]
     },
     "execution_count": 21,
     "metadata": {},
     "output_type": "execute_result"
    }
   ],
   "source": [
    "listing_df"
   ]
  },
  {
   "cell_type": "code",
   "execution_count": 22,
   "metadata": {},
   "outputs": [
    {
     "data": {
      "text/plain": [
       "(0, 3000)"
      ]
     },
     "execution_count": 22,
     "metadata": {},
     "output_type": "execute_result"
    },
    {
     "data": {
      "image/png": "[encoded data removed]",
      "text/plain": [
       "<Figure size 432x288 with 1 Axes>"
      ]
     },
     "metadata": {
      "needs_background": "light"
     },
     "output_type": "display_data"
    }
   ],
   "source": [
    "plt.hist(x=listing_df['price'],bins=250,color='r')\n",
    "plt.xlim(0,3000)"
   ]
  },
  {
   "cell_type": "code",
   "execution_count": 23,
   "metadata": {},
   "outputs": [
    {
     "data": {
      "text/plain": [
       "244.0466630080771"
      ]
     },
     "execution_count": 23,
     "metadata": {},
     "output_type": "execute_result"
    }
   ],
   "source": [
    "listing_df['price'].mean()"
   ]
  },
  {
   "cell_type": "code",
   "execution_count": 24,
   "metadata": {},
   "outputs": [
    {
     "data": {
      "text/plain": [
       "111.40469999999999"
      ]
     },
     "execution_count": 24,
     "metadata": {},
     "output_type": "execute_result"
    }
   ],
   "source": [
    "listing_df['price'].median()"
   ]
  },
  {
   "cell_type": "code",
   "execution_count": 25,
   "metadata": {},
   "outputs": [
    {
     "data": {
      "text/plain": [
       "0    92.7675\n",
       "dtype: float64"
      ]
     },
     "execution_count": 25,
     "metadata": {},
     "output_type": "execute_result"
    }
   ],
   "source": [
    "listing_df['price'].mode()"
   ]
  },
  {
   "cell_type": "code",
   "execution_count": 26,
   "metadata": {},
   "outputs": [
    {
     "data": {
      "text/plain": [
       "9300.4929"
      ]
     },
     "execution_count": 26,
     "metadata": {},
     "output_type": "execute_result"
    }
   ],
   "source": [
    "listing_df['price'].max()"
   ]
  },
  {
   "cell_type": "code",
   "execution_count": 27,
   "metadata": {},
   "outputs": [
    {
     "data": {
      "text/plain": [
       "room_type\n",
       "Entire home/apt    291.401704\n",
       "Hotel room         249.832129\n",
       "Private room       134.010746\n",
       "Shared room         57.775055\n",
       "Name: price, dtype: float64"
      ]
     },
     "execution_count": 27,
     "metadata": {},
     "output_type": "execute_result"
    }
   ],
   "source": [
    "listing_df.groupby('room_type')['price'].mean()"
   ]
  },
  {
   "cell_type": "code",
   "execution_count": 28,
   "metadata": {},
   "outputs": [
    {
     "data": {
      "text/plain": [
       "room_type\n",
       "Entire home/apt    125.6895\n",
       "Hotel room          92.7675\n",
       "Private room        69.8244\n",
       "Shared room         29.9274\n",
       "Name: price, dtype: float64"
      ]
     },
     "execution_count": 28,
     "metadata": {},
     "output_type": "execute_result"
    }
   ],
   "source": [
    "listing_df.groupby('room_type')['price'].median()"
   ]
  },
  {
   "cell_type": "code",
   "execution_count": 29,
   "metadata": {},
   "outputs": [
    {
     "data": {
      "text/plain": [
       "room_type\n",
       "Entire home/apt     9.9789\n",
       "Hotel room         11.9691\n",
       "Private room        0.0000\n",
       "Shared room         9.9789\n",
       "Name: price, dtype: float64"
      ]
     },
     "execution_count": 29,
     "metadata": {},
     "output_type": "execute_result"
    }
   ],
   "source": [
    "listing_df.groupby('room_type')['price'].min()"
   ]
  },
  {
   "cell_type": "code",
   "execution_count": 30,
   "metadata": {},
   "outputs": [
    {
     "data": {
      "text/plain": [
       "room_type\n",
       "Entire home/apt    9299.9535\n",
       "Hotel room         8370.4371\n",
       "Private room       9300.4929\n",
       "Shared room        1190.0466\n",
       "Name: price, dtype: float64"
      ]
     },
     "execution_count": 30,
     "metadata": {},
     "output_type": "execute_result"
    }
   ],
   "source": [
    "listing_df.groupby('room_type')['price'].max()"
   ]
  },
  {
   "cell_type": "code",
   "execution_count": 31,
   "metadata": {},
   "outputs": [
    {
     "data": {
      "text/plain": [
       "Entire home/apt    10531\n",
       "Private room        3346\n",
       "Hotel room           751\n",
       "Shared room          724\n",
       "Name: room_type, dtype: int64"
      ]
     },
     "execution_count": 31,
     "metadata": {},
     "output_type": "execute_result"
    }
   ],
   "source": [
    "listing_df['room_type'].value_counts()"
   ]
  },
  {
   "cell_type": "code",
   "execution_count": 32,
   "metadata": {},
   "outputs": [
    {
     "data": {
      "text/plain": [
       "Shinjuku Ku            2803\n",
       "Taito Ku               2127\n",
       "Toshima Ku             1633\n",
       "Sumida Ku              1322\n",
       "Shibuya Ku             1095\n",
       "Chuo Ku                 610\n",
       "Minato Ku               578\n",
       "Ota Ku                  527\n",
       "Nakano Ku               452\n",
       "Katsushika Ku           433\n",
       "Arakawa Ku              407\n",
       "Setagaya Ku             381\n",
       "Kita Ku                 366\n",
       "Itabashi Ku             339\n",
       "Suginami Ku             334\n",
       "Edogawa Ku              281\n",
       "Shinagawa Ku            263\n",
       "Koto Ku                 242\n",
       "Chiyoda Ku              240\n",
       "Adachi Ku               194\n",
       "Bunkyo Ku               191\n",
       "Nerima Ku                92\n",
       "Meguro Ku                91\n",
       "Hachioji Shi             51\n",
       "Machida Shi              38\n",
       "Hino Shi                 26\n",
       "Nishitokyo Shi           21\n",
       "Musashino Shi            18\n",
       "Oshima Machi             15\n",
       "Chofu Shi                15\n",
       "Higashimurayama Shi      15\n",
       "Mitaka Shi               14\n",
       "Kokubunji Shi            13\n",
       "Akiruno Shi              13\n",
       "Kodaira Shi              12\n",
       "Kunitachi Shi            10\n",
       "Tama Shi                 10\n",
       "Komae Shi                10\n",
       "Fuchu Shi                 7\n",
       "Tachikawa Shi             6\n",
       "Hachijo Machi             6\n",
       "Musashimurayama Shi       6\n",
       "Ome Shi                   5\n",
       "Okutama Machi             5\n",
       "Fussa Shi                 5\n",
       "Hinohara Mura             5\n",
       "Hamura Shi                5\n",
       "Koganei Shi               4\n",
       "Ogasawara Mura            3\n",
       "Niijima Mura              3\n",
       "Higashikurume Shi         3\n",
       "Inagi Shi                 2\n",
       "Miyake Mura               2\n",
       "Akishima Shi              2\n",
       "Higashiyamato Shi         1\n",
       "Name: neighbourhood, dtype: int64"
      ]
     },
     "execution_count": 32,
     "metadata": {},
     "output_type": "execute_result"
    }
   ],
   "source": [
    "listing_df['neighbourhood'].value_counts()"
   ]
  },
  {
   "cell_type": "code",
   "execution_count": 33,
   "metadata": {},
   "outputs": [
    {
     "data": {
      "text/plain": [
       "neighbourhood  room_type      \n",
       "Adachi Ku      Entire home/apt    133.879748\n",
       "               Hotel room          63.297268\n",
       "               Private room        54.074091\n",
       "               Shared room         49.890208\n",
       "Akiruno Shi    Entire home/apt     58.022700\n",
       "                                     ...    \n",
       "Tama Shi       Private room       188.248275\n",
       "Toshima Ku     Entire home/apt    342.899657\n",
       "               Hotel room          76.011674\n",
       "               Private room        70.973197\n",
       "               Shared room         26.566491\n",
       "Name: price, Length: 154, dtype: float64"
      ]
     },
     "execution_count": 33,
     "metadata": {},
     "output_type": "execute_result"
    }
   ],
   "source": [
    "listing_df.groupby(['neighbourhood','room_type'])['price'].mean()"
   ]
  },
  {
   "cell_type": "code",
   "execution_count": 34,
   "metadata": {},
   "outputs": [
    {
     "data": {
      "text/plain": [
       "neighbourhood\n",
       "Hachioji Shi           1871.264488\n",
       "Chiyoda Ku              709.144917\n",
       "Edogawa Ku              533.861900\n",
       "Chuo Ku                 383.424166\n",
       "Taito Ku                293.589864\n",
       "Machida Shi             293.026113\n",
       "Toshima Ku              286.135594\n",
       "Arakawa Ku              277.134310\n",
       "Shibuya Ku              251.500274\n",
       "Bunkyo Ku               236.376152\n",
       "Shinagawa Ku            223.295758\n",
       "Minato Ku               215.057802\n",
       "Katsushika Ku           214.864687\n",
       "Itabashi Ku             208.513983\n",
       "Sumida Ku               196.801268\n",
       "Shinjuku Ku             196.289768\n",
       "Nakano Ku               186.327619\n",
       "Hinohara Mura           171.088380\n",
       "Ota Ku                  156.114194\n",
       "Setagaya Ku             147.049330\n",
       "Miyake Mura             139.155900\n",
       "Koto Ku                 136.127866\n",
       "Fuchu Shi               134.592257\n",
       "Mitaka Shi              130.818450\n",
       "Nerima Ku               130.780846\n",
       "Kita Ku                 130.082302\n",
       "Suginami Ku             126.576564\n",
       "Okutama Machi           119.601720\n",
       "Meguro Ku               118.341376\n",
       "Komae Shi               113.858040\n",
       "Tama Shi                102.653400\n",
       "Hachijo Machi            93.103850\n",
       "Niijima Mura             92.767500\n",
       "Kodaira Shi              89.441200\n",
       "Tachikawa Shi            86.869750\n",
       "Musashino Shi            82.579350\n",
       "Adachi Ku                81.024668\n",
       "Oshima Machi             77.579980\n",
       "Nishitokyo Shi           76.117843\n",
       "Chofu Shi                75.752840\n",
       "Ogasawara Mura           68.829300\n",
       "Koganei Shi              67.139025\n",
       "Higashimurayama Shi      60.213160\n",
       "Ome Shi                  57.295440\n",
       "Hamura Shi               54.907200\n",
       "Akiruno Shi              52.204477\n",
       "Hino Shi                 49.163377\n",
       "Kokubunji Shi            45.602192\n",
       "Akishima Shi             35.805000\n",
       "Higashikurume Shi        35.513600\n",
       "Fussa Shi                34.419300\n",
       "Kunitachi Shi            33.321900\n",
       "Higashiyamato Shi        27.853500\n",
       "Musashimurayama Shi      27.521800\n",
       "Inagi Shi                16.409850\n",
       "Name: price, dtype: float64"
      ]
     },
     "execution_count": 34,
     "metadata": {},
     "output_type": "execute_result"
    }
   ],
   "source": [
    "listing_df.groupby('neighbourhood',)['price'].mean().sort_values(ascending=False)"
   ]
  },
  {
   "cell_type": "code",
   "execution_count": 35,
   "metadata": {},
   "outputs": [],
   "source": [
    "top_host = listing_df['host_name'].value_counts().head(10)"
   ]
  },
  {
   "cell_type": "code",
   "execution_count": 36,
   "metadata": {},
   "outputs": [
    {
     "name": "stdout",
     "output_type": "stream",
     "text": [
      "neighbourhood  host_name                        \n",
      "Machida Shi    千寿産業株式会社                             9300.4929\n",
      "Edogawa Ku     Family Resort Fifty'S For Maihama    9299.9535\n",
      "Minato Ku      The Tokyo Shogunate                  9299.9535\n",
      "Toshima Ku     Rui                                  8370.4371\n",
      "Hachioji Shi   Hara                                 8370.4371\n",
      "                                                      ...    \n",
      "Itabashi Ku    GG House                               10.9461\n",
      "Machida Shi    GG House                               10.9461\n",
      "Katsushika Ku  GG House                               10.9461\n",
      "Itabashi Ku    House                                  10.9461\n",
      "Sumida Ku      Reiko                                   9.9789\n",
      "Name: price, Length: 4195, dtype: float64\n"
     ]
    }
   ],
   "source": [
    "print(listing_df.groupby(['neighbourhood','host_name'])['price'].mean().sort_values(ascending=False))"
   ]
  },
  {
   "cell_type": "code",
   "execution_count": 37,
   "metadata": {},
   "outputs": [],
   "source": [
    "pivot_df = listing_df[['neighbourhood','host_name','room_type','price']]"
   ]
  },
  {
   "cell_type": "code",
   "execution_count": 38,
   "metadata": {},
   "outputs": [],
   "source": [
    "pivot_df = pd.pivot_table(pivot_df,index=['room_type','room_type','neighbourhood'])"
   ]
  },
  {
   "cell_type": "code",
   "execution_count": 39,
   "metadata": {},
   "outputs": [
    {
     "data": {
      "text/html": [
       "<div>\n",
       "<style scoped>\n",
       "    .dataframe tbody tr th:only-of-type {\n",
       "        vertical-align: middle;\n",
       "    }\n",
       "\n",
       "    .dataframe tbody tr th {\n",
       "        vertical-align: top;\n",
       "    }\n",
       "\n",
       "    .dataframe thead th {\n",
       "        text-align: right;\n",
       "    }\n",
       "</style>\n",
       "<table border=\"1\" class=\"dataframe\">\n",
       "  <thead>\n",
       "    <tr style=\"text-align: right;\">\n",
       "      <th></th>\n",
       "      <th></th>\n",
       "      <th></th>\n",
       "      <th>price</th>\n",
       "    </tr>\n",
       "    <tr>\n",
       "      <th>room_type</th>\n",
       "      <th>room_type</th>\n",
       "      <th>neighbourhood</th>\n",
       "      <th></th>\n",
       "    </tr>\n",
       "  </thead>\n",
       "  <tbody>\n",
       "    <tr>\n",
       "      <th rowspan=\"5\" valign=\"top\">Entire home/apt</th>\n",
       "      <th rowspan=\"5\" valign=\"top\">Entire home/apt</th>\n",
       "      <th>Adachi Ku</th>\n",
       "      <td>133.879748</td>\n",
       "    </tr>\n",
       "    <tr>\n",
       "      <th>Akiruno Shi</th>\n",
       "      <td>58.022700</td>\n",
       "    </tr>\n",
       "    <tr>\n",
       "      <th>Akishima Shi</th>\n",
       "      <td>35.805000</td>\n",
       "    </tr>\n",
       "    <tr>\n",
       "      <th>Arakawa Ku</th>\n",
       "      <td>329.989360</td>\n",
       "    </tr>\n",
       "    <tr>\n",
       "      <th>Bunkyo Ku</th>\n",
       "      <td>295.747812</td>\n",
       "    </tr>\n",
       "    <tr>\n",
       "      <th>...</th>\n",
       "      <th>...</th>\n",
       "      <th>...</th>\n",
       "      <td>...</td>\n",
       "    </tr>\n",
       "    <tr>\n",
       "      <th rowspan=\"5\" valign=\"top\">Shared room</th>\n",
       "      <th rowspan=\"5\" valign=\"top\">Shared room</th>\n",
       "      <th>Shinjuku Ku</th>\n",
       "      <td>31.438459</td>\n",
       "    </tr>\n",
       "    <tr>\n",
       "      <th>Suginami Ku</th>\n",
       "      <td>29.752658</td>\n",
       "    </tr>\n",
       "    <tr>\n",
       "      <th>Sumida Ku</th>\n",
       "      <td>43.403307</td>\n",
       "    </tr>\n",
       "    <tr>\n",
       "      <th>Taito Ku</th>\n",
       "      <td>60.808955</td>\n",
       "    </tr>\n",
       "    <tr>\n",
       "      <th>Toshima Ku</th>\n",
       "      <td>26.566491</td>\n",
       "    </tr>\n",
       "  </tbody>\n",
       "</table>\n",
       "<p>154 rows × 1 columns</p>\n",
       "</div>"
      ],
      "text/plain": [
       "                                                    price\n",
       "room_type       room_type       neighbourhood            \n",
       "Entire home/apt Entire home/apt Adachi Ku      133.879748\n",
       "                                Akiruno Shi     58.022700\n",
       "                                Akishima Shi    35.805000\n",
       "                                Arakawa Ku     329.989360\n",
       "                                Bunkyo Ku      295.747812\n",
       "...                                                   ...\n",
       "Shared room     Shared room     Shinjuku Ku     31.438459\n",
       "                                Suginami Ku     29.752658\n",
       "                                Sumida Ku       43.403307\n",
       "                                Taito Ku        60.808955\n",
       "                                Toshima Ku      26.566491\n",
       "\n",
       "[154 rows x 1 columns]"
      ]
     },
     "execution_count": 39,
     "metadata": {},
     "output_type": "execute_result"
    }
   ],
   "source": [
    "pivot_df"
   ]
  },
  {
   "cell_type": "code",
   "execution_count": 40,
   "metadata": {},
   "outputs": [
    {
     "data": {
      "text/plain": [
       "1      9235\n",
       "2      3890\n",
       "3       820\n",
       "30      658\n",
       "4       123\n",
       "7       118\n",
       "5       118\n",
       "6        70\n",
       "23       63\n",
       "28       60\n",
       "14       35\n",
       "15       31\n",
       "31       26\n",
       "20       16\n",
       "12       15\n",
       "29       15\n",
       "10       14\n",
       "13        7\n",
       "21        6\n",
       "25        5\n",
       "32        3\n",
       "365       3\n",
       "9         3\n",
       "60        3\n",
       "90        3\n",
       "8         3\n",
       "180       2\n",
       "100       1\n",
       "33        1\n",
       "35        1\n",
       "99        1\n",
       "360       1\n",
       "24        1\n",
       "16        1\n",
       "Name: minimum_nights, dtype: int64"
      ]
     },
     "execution_count": 40,
     "metadata": {},
     "output_type": "execute_result"
    }
   ],
   "source": [
    "listing_df['minimum_nights'].value_counts()"
   ]
  },
  {
   "cell_type": "code",
   "execution_count": 41,
   "metadata": {},
   "outputs": [
    {
     "data": {
      "text/plain": [
       "Index(['id', 'name', 'host_id', 'host_name', 'neighbourhood_group',\n",
       "       'neighbourhood', 'latitude', 'longitude', 'room_type', 'price',\n",
       "       'minimum_nights', 'number_of_reviews', 'last_review',\n",
       "       'reviews_per_month', 'calculated_host_listings_count',\n",
       "       'availability_365'],\n",
       "      dtype='object')"
      ]
     },
     "execution_count": 41,
     "metadata": {},
     "output_type": "execute_result"
    }
   ],
   "source": [
    "listing_df.columns"
   ]
  },
  {
   "cell_type": "markdown",
   "metadata": {},
   "source": [
    "Does the area influence the availability and minimum_nights"
   ]
  },
  {
   "cell_type": "code",
   "execution_count": 42,
   "metadata": {},
   "outputs": [
    {
     "data": {
      "text/plain": [
       "Shinjuku Ku            2803\n",
       "Taito Ku               2127\n",
       "Toshima Ku             1633\n",
       "Sumida Ku              1322\n",
       "Shibuya Ku             1095\n",
       "Chuo Ku                 610\n",
       "Minato Ku               578\n",
       "Ota Ku                  527\n",
       "Nakano Ku               452\n",
       "Katsushika Ku           433\n",
       "Arakawa Ku              407\n",
       "Setagaya Ku             381\n",
       "Kita Ku                 366\n",
       "Itabashi Ku             339\n",
       "Suginami Ku             334\n",
       "Edogawa Ku              281\n",
       "Shinagawa Ku            263\n",
       "Koto Ku                 242\n",
       "Chiyoda Ku              240\n",
       "Adachi Ku               194\n",
       "Bunkyo Ku               191\n",
       "Nerima Ku                92\n",
       "Meguro Ku                91\n",
       "Hachioji Shi             51\n",
       "Machida Shi              38\n",
       "Hino Shi                 26\n",
       "Nishitokyo Shi           21\n",
       "Musashino Shi            18\n",
       "Oshima Machi             15\n",
       "Chofu Shi                15\n",
       "Higashimurayama Shi      15\n",
       "Mitaka Shi               14\n",
       "Kokubunji Shi            13\n",
       "Akiruno Shi              13\n",
       "Kodaira Shi              12\n",
       "Kunitachi Shi            10\n",
       "Tama Shi                 10\n",
       "Komae Shi                10\n",
       "Fuchu Shi                 7\n",
       "Tachikawa Shi             6\n",
       "Hachijo Machi             6\n",
       "Musashimurayama Shi       6\n",
       "Ome Shi                   5\n",
       "Okutama Machi             5\n",
       "Fussa Shi                 5\n",
       "Hinohara Mura             5\n",
       "Hamura Shi                5\n",
       "Koganei Shi               4\n",
       "Ogasawara Mura            3\n",
       "Niijima Mura              3\n",
       "Higashikurume Shi         3\n",
       "Inagi Shi                 2\n",
       "Miyake Mura               2\n",
       "Akishima Shi              2\n",
       "Higashiyamato Shi         1\n",
       "Name: neighbourhood, dtype: int64"
      ]
     },
     "execution_count": 42,
     "metadata": {},
     "output_type": "execute_result"
    }
   ],
   "source": [
    "listing_df['neighbourhood'].value_counts()"
   ]
  },
  {
   "cell_type": "code",
   "execution_count": 43,
   "metadata": {},
   "outputs": [
    {
     "data": {
      "text/plain": [
       "1      9235\n",
       "2      3890\n",
       "3       820\n",
       "30      658\n",
       "4       123\n",
       "7       118\n",
       "5       118\n",
       "6        70\n",
       "23       63\n",
       "28       60\n",
       "14       35\n",
       "15       31\n",
       "31       26\n",
       "20       16\n",
       "12       15\n",
       "29       15\n",
       "10       14\n",
       "13        7\n",
       "21        6\n",
       "25        5\n",
       "32        3\n",
       "365       3\n",
       "9         3\n",
       "60        3\n",
       "90        3\n",
       "8         3\n",
       "180       2\n",
       "100       1\n",
       "33        1\n",
       "35        1\n",
       "99        1\n",
       "360       1\n",
       "24        1\n",
       "16        1\n",
       "Name: minimum_nights, dtype: int64"
      ]
     },
     "execution_count": 43,
     "metadata": {},
     "output_type": "execute_result"
    }
   ],
   "source": [
    "listing_df['minimum_nights'].value_counts()"
   ]
  },
  {
   "cell_type": "code",
   "execution_count": 44,
   "metadata": {},
   "outputs": [
    {
     "name": "stderr",
     "output_type": "stream",
     "text": [
      "C:\\ProgramData\\Miniconda3\\lib\\site-packages\\ipykernel_launcher.py:1: FutureWarning: Indexing with multiple keys (implicitly converted to a tuple of keys) will be deprecated, use a list instead.\n",
      "  \"\"\"Entry point for launching an IPython kernel.\n"
     ]
    }
   ],
   "source": [
    " p = listing_df.groupby('neighbourhood')['availability_365','price'].mean().sort_values(ascending = False,by='price')"
   ]
  },
  {
   "cell_type": "code",
   "execution_count": 45,
   "metadata": {},
   "outputs": [
    {
     "data": {
      "text/plain": [
       "<matplotlib.axes._subplots.AxesSubplot at 0x10f12c10>"
      ]
     },
     "execution_count": 45,
     "metadata": {},
     "output_type": "execute_result"
    },
    {
     "data": {
      "text/plain": [
       "<Figure size 1368x288 with 0 Axes>"
      ]
     },
     "metadata": {},
     "output_type": "display_data"
    },
    {
     "data": {
      "image/png": "[encoded data removed]",
      "text/plain": [
       "<Figure size 432x288 with 1 Axes>"
      ]
     },
     "metadata": {
      "needs_background": "light"
     },
     "output_type": "display_data"
    }
   ],
   "source": [
    "plt.figure(figsize=(19,4))\n",
    "p.plot(kind='bar')\n",
    "\n"
   ]
  },
  {
   "cell_type": "code",
   "execution_count": 46,
   "metadata": {},
   "outputs": [
    {
     "data": {
      "text/html": [
       "<div>\n",
       "<style scoped>\n",
       "    .dataframe tbody tr th:only-of-type {\n",
       "        vertical-align: middle;\n",
       "    }\n",
       "\n",
       "    .dataframe tbody tr th {\n",
       "        vertical-align: top;\n",
       "    }\n",
       "\n",
       "    .dataframe thead th {\n",
       "        text-align: right;\n",
       "    }\n",
       "</style>\n",
       "<table border=\"1\" class=\"dataframe\">\n",
       "  <thead>\n",
       "    <tr style=\"text-align: right;\">\n",
       "      <th></th>\n",
       "      <th>availability_365</th>\n",
       "      <th>price</th>\n",
       "    </tr>\n",
       "    <tr>\n",
       "      <th>neighbourhood</th>\n",
       "      <th></th>\n",
       "      <th></th>\n",
       "    </tr>\n",
       "  </thead>\n",
       "  <tbody>\n",
       "    <tr>\n",
       "      <th>Hachioji Shi</th>\n",
       "      <td>109.803922</td>\n",
       "      <td>1871.264488</td>\n",
       "    </tr>\n",
       "    <tr>\n",
       "      <th>Chiyoda Ku</th>\n",
       "      <td>158.645833</td>\n",
       "      <td>709.144917</td>\n",
       "    </tr>\n",
       "    <tr>\n",
       "      <th>Edogawa Ku</th>\n",
       "      <td>134.355872</td>\n",
       "      <td>533.861900</td>\n",
       "    </tr>\n",
       "    <tr>\n",
       "      <th>Chuo Ku</th>\n",
       "      <td>197.501639</td>\n",
       "      <td>383.424166</td>\n",
       "    </tr>\n",
       "    <tr>\n",
       "      <th>Taito Ku</th>\n",
       "      <td>162.863658</td>\n",
       "      <td>293.589864</td>\n",
       "    </tr>\n",
       "    <tr>\n",
       "      <th>Machida Shi</th>\n",
       "      <td>135.578947</td>\n",
       "      <td>293.026113</td>\n",
       "    </tr>\n",
       "    <tr>\n",
       "      <th>Toshima Ku</th>\n",
       "      <td>141.132884</td>\n",
       "      <td>286.135594</td>\n",
       "    </tr>\n",
       "    <tr>\n",
       "      <th>Arakawa Ku</th>\n",
       "      <td>151.535627</td>\n",
       "      <td>277.134310</td>\n",
       "    </tr>\n",
       "    <tr>\n",
       "      <th>Shibuya Ku</th>\n",
       "      <td>145.907763</td>\n",
       "      <td>251.500274</td>\n",
       "    </tr>\n",
       "    <tr>\n",
       "      <th>Bunkyo Ku</th>\n",
       "      <td>156.575916</td>\n",
       "      <td>236.376152</td>\n",
       "    </tr>\n",
       "    <tr>\n",
       "      <th>Shinagawa Ku</th>\n",
       "      <td>176.159696</td>\n",
       "      <td>223.295758</td>\n",
       "    </tr>\n",
       "    <tr>\n",
       "      <th>Minato Ku</th>\n",
       "      <td>139.660900</td>\n",
       "      <td>215.057802</td>\n",
       "    </tr>\n",
       "    <tr>\n",
       "      <th>Katsushika Ku</th>\n",
       "      <td>122.078522</td>\n",
       "      <td>214.864687</td>\n",
       "    </tr>\n",
       "    <tr>\n",
       "      <th>Itabashi Ku</th>\n",
       "      <td>147.876106</td>\n",
       "      <td>208.513983</td>\n",
       "    </tr>\n",
       "    <tr>\n",
       "      <th>Sumida Ku</th>\n",
       "      <td>167.773071</td>\n",
       "      <td>196.801268</td>\n",
       "    </tr>\n",
       "    <tr>\n",
       "      <th>Shinjuku Ku</th>\n",
       "      <td>153.021762</td>\n",
       "      <td>196.289768</td>\n",
       "    </tr>\n",
       "    <tr>\n",
       "      <th>Nakano Ku</th>\n",
       "      <td>146.559735</td>\n",
       "      <td>186.327619</td>\n",
       "    </tr>\n",
       "    <tr>\n",
       "      <th>Hinohara Mura</th>\n",
       "      <td>64.600000</td>\n",
       "      <td>171.088380</td>\n",
       "    </tr>\n",
       "    <tr>\n",
       "      <th>Ota Ku</th>\n",
       "      <td>161.034156</td>\n",
       "      <td>156.114194</td>\n",
       "    </tr>\n",
       "    <tr>\n",
       "      <th>Setagaya Ku</th>\n",
       "      <td>186.496063</td>\n",
       "      <td>147.049330</td>\n",
       "    </tr>\n",
       "    <tr>\n",
       "      <th>Miyake Mura</th>\n",
       "      <td>153.000000</td>\n",
       "      <td>139.155900</td>\n",
       "    </tr>\n",
       "    <tr>\n",
       "      <th>Koto Ku</th>\n",
       "      <td>196.735537</td>\n",
       "      <td>136.127866</td>\n",
       "    </tr>\n",
       "    <tr>\n",
       "      <th>Fuchu Shi</th>\n",
       "      <td>152.000000</td>\n",
       "      <td>134.592257</td>\n",
       "    </tr>\n",
       "    <tr>\n",
       "      <th>Mitaka Shi</th>\n",
       "      <td>150.071429</td>\n",
       "      <td>130.818450</td>\n",
       "    </tr>\n",
       "    <tr>\n",
       "      <th>Nerima Ku</th>\n",
       "      <td>154.750000</td>\n",
       "      <td>130.780846</td>\n",
       "    </tr>\n",
       "    <tr>\n",
       "      <th>Kita Ku</th>\n",
       "      <td>155.879781</td>\n",
       "      <td>130.082302</td>\n",
       "    </tr>\n",
       "    <tr>\n",
       "      <th>Suginami Ku</th>\n",
       "      <td>163.814371</td>\n",
       "      <td>126.576564</td>\n",
       "    </tr>\n",
       "    <tr>\n",
       "      <th>Okutama Machi</th>\n",
       "      <td>69.400000</td>\n",
       "      <td>119.601720</td>\n",
       "    </tr>\n",
       "    <tr>\n",
       "      <th>Meguro Ku</th>\n",
       "      <td>107.648352</td>\n",
       "      <td>118.341376</td>\n",
       "    </tr>\n",
       "    <tr>\n",
       "      <th>Komae Shi</th>\n",
       "      <td>207.300000</td>\n",
       "      <td>113.858040</td>\n",
       "    </tr>\n",
       "    <tr>\n",
       "      <th>Tama Shi</th>\n",
       "      <td>172.200000</td>\n",
       "      <td>102.653400</td>\n",
       "    </tr>\n",
       "    <tr>\n",
       "      <th>Hachijo Machi</th>\n",
       "      <td>124.333333</td>\n",
       "      <td>93.103850</td>\n",
       "    </tr>\n",
       "    <tr>\n",
       "      <th>Niijima Mura</th>\n",
       "      <td>105.333333</td>\n",
       "      <td>92.767500</td>\n",
       "    </tr>\n",
       "    <tr>\n",
       "      <th>Kodaira Shi</th>\n",
       "      <td>200.083333</td>\n",
       "      <td>89.441200</td>\n",
       "    </tr>\n",
       "    <tr>\n",
       "      <th>Tachikawa Shi</th>\n",
       "      <td>296.666667</td>\n",
       "      <td>86.869750</td>\n",
       "    </tr>\n",
       "    <tr>\n",
       "      <th>Musashino Shi</th>\n",
       "      <td>164.333333</td>\n",
       "      <td>82.579350</td>\n",
       "    </tr>\n",
       "    <tr>\n",
       "      <th>Adachi Ku</th>\n",
       "      <td>133.726804</td>\n",
       "      <td>81.024668</td>\n",
       "    </tr>\n",
       "    <tr>\n",
       "      <th>Oshima Machi</th>\n",
       "      <td>93.333333</td>\n",
       "      <td>77.579980</td>\n",
       "    </tr>\n",
       "    <tr>\n",
       "      <th>Nishitokyo Shi</th>\n",
       "      <td>133.571429</td>\n",
       "      <td>76.117843</td>\n",
       "    </tr>\n",
       "    <tr>\n",
       "      <th>Chofu Shi</th>\n",
       "      <td>95.933333</td>\n",
       "      <td>75.752840</td>\n",
       "    </tr>\n",
       "    <tr>\n",
       "      <th>Ogasawara Mura</th>\n",
       "      <td>360.666667</td>\n",
       "      <td>68.829300</td>\n",
       "    </tr>\n",
       "    <tr>\n",
       "      <th>Koganei Shi</th>\n",
       "      <td>136.250000</td>\n",
       "      <td>67.139025</td>\n",
       "    </tr>\n",
       "    <tr>\n",
       "      <th>Higashimurayama Shi</th>\n",
       "      <td>186.933333</td>\n",
       "      <td>60.213160</td>\n",
       "    </tr>\n",
       "    <tr>\n",
       "      <th>Ome Shi</th>\n",
       "      <td>70.400000</td>\n",
       "      <td>57.295440</td>\n",
       "    </tr>\n",
       "    <tr>\n",
       "      <th>Hamura Shi</th>\n",
       "      <td>237.400000</td>\n",
       "      <td>54.907200</td>\n",
       "    </tr>\n",
       "    <tr>\n",
       "      <th>Akiruno Shi</th>\n",
       "      <td>198.384615</td>\n",
       "      <td>52.204477</td>\n",
       "    </tr>\n",
       "    <tr>\n",
       "      <th>Hino Shi</th>\n",
       "      <td>248.423077</td>\n",
       "      <td>49.163377</td>\n",
       "    </tr>\n",
       "    <tr>\n",
       "      <th>Kokubunji Shi</th>\n",
       "      <td>205.384615</td>\n",
       "      <td>45.602192</td>\n",
       "    </tr>\n",
       "    <tr>\n",
       "      <th>Akishima Shi</th>\n",
       "      <td>86.500000</td>\n",
       "      <td>35.805000</td>\n",
       "    </tr>\n",
       "    <tr>\n",
       "      <th>Higashikurume Shi</th>\n",
       "      <td>116.666667</td>\n",
       "      <td>35.513600</td>\n",
       "    </tr>\n",
       "    <tr>\n",
       "      <th>Fussa Shi</th>\n",
       "      <td>180.600000</td>\n",
       "      <td>34.419300</td>\n",
       "    </tr>\n",
       "    <tr>\n",
       "      <th>Kunitachi Shi</th>\n",
       "      <td>102.000000</td>\n",
       "      <td>33.321900</td>\n",
       "    </tr>\n",
       "    <tr>\n",
       "      <th>Higashiyamato Shi</th>\n",
       "      <td>22.000000</td>\n",
       "      <td>27.853500</td>\n",
       "    </tr>\n",
       "    <tr>\n",
       "      <th>Musashimurayama Shi</th>\n",
       "      <td>203.500000</td>\n",
       "      <td>27.521800</td>\n",
       "    </tr>\n",
       "    <tr>\n",
       "      <th>Inagi Shi</th>\n",
       "      <td>45.000000</td>\n",
       "      <td>16.409850</td>\n",
       "    </tr>\n",
       "  </tbody>\n",
       "</table>\n",
       "</div>"
      ],
      "text/plain": [
       "                     availability_365        price\n",
       "neighbourhood                                     \n",
       "Hachioji Shi               109.803922  1871.264488\n",
       "Chiyoda Ku                 158.645833   709.144917\n",
       "Edogawa Ku                 134.355872   533.861900\n",
       "Chuo Ku                    197.501639   383.424166\n",
       "Taito Ku                   162.863658   293.589864\n",
       "Machida Shi                135.578947   293.026113\n",
       "Toshima Ku                 141.132884   286.135594\n",
       "Arakawa Ku                 151.535627   277.134310\n",
       "Shibuya Ku                 145.907763   251.500274\n",
       "Bunkyo Ku                  156.575916   236.376152\n",
       "Shinagawa Ku               176.159696   223.295758\n",
       "Minato Ku                  139.660900   215.057802\n",
       "Katsushika Ku              122.078522   214.864687\n",
       "Itabashi Ku                147.876106   208.513983\n",
       "Sumida Ku                  167.773071   196.801268\n",
       "Shinjuku Ku                153.021762   196.289768\n",
       "Nakano Ku                  146.559735   186.327619\n",
       "Hinohara Mura               64.600000   171.088380\n",
       "Ota Ku                     161.034156   156.114194\n",
       "Setagaya Ku                186.496063   147.049330\n",
       "Miyake Mura                153.000000   139.155900\n",
       "Koto Ku                    196.735537   136.127866\n",
       "Fuchu Shi                  152.000000   134.592257\n",
       "Mitaka Shi                 150.071429   130.818450\n",
       "Nerima Ku                  154.750000   130.780846\n",
       "Kita Ku                    155.879781   130.082302\n",
       "Suginami Ku                163.814371   126.576564\n",
       "Okutama Machi               69.400000   119.601720\n",
       "Meguro Ku                  107.648352   118.341376\n",
       "Komae Shi                  207.300000   113.858040\n",
       "Tama Shi                   172.200000   102.653400\n",
       "Hachijo Machi              124.333333    93.103850\n",
       "Niijima Mura               105.333333    92.767500\n",
       "Kodaira Shi                200.083333    89.441200\n",
       "Tachikawa Shi              296.666667    86.869750\n",
       "Musashino Shi              164.333333    82.579350\n",
       "Adachi Ku                  133.726804    81.024668\n",
       "Oshima Machi                93.333333    77.579980\n",
       "Nishitokyo Shi             133.571429    76.117843\n",
       "Chofu Shi                   95.933333    75.752840\n",
       "Ogasawara Mura             360.666667    68.829300\n",
       "Koganei Shi                136.250000    67.139025\n",
       "Higashimurayama Shi        186.933333    60.213160\n",
       "Ome Shi                     70.400000    57.295440\n",
       "Hamura Shi                 237.400000    54.907200\n",
       "Akiruno Shi                198.384615    52.204477\n",
       "Hino Shi                   248.423077    49.163377\n",
       "Kokubunji Shi              205.384615    45.602192\n",
       "Akishima Shi                86.500000    35.805000\n",
       "Higashikurume Shi          116.666667    35.513600\n",
       "Fussa Shi                  180.600000    34.419300\n",
       "Kunitachi Shi              102.000000    33.321900\n",
       "Higashiyamato Shi           22.000000    27.853500\n",
       "Musashimurayama Shi        203.500000    27.521800\n",
       "Inagi Shi                   45.000000    16.409850"
      ]
     },
     "execution_count": 46,
     "metadata": {},
     "output_type": "execute_result"
    }
   ],
   "source": [
    "p"
   ]
  },
  {
   "cell_type": "code",
   "execution_count": 47,
   "metadata": {},
   "outputs": [
    {
     "data": {
      "text/plain": [
       "Index(['id', 'name', 'host_id', 'host_name', 'neighbourhood_group',\n",
       "       'neighbourhood', 'latitude', 'longitude', 'room_type', 'price',\n",
       "       'minimum_nights', 'number_of_reviews', 'last_review',\n",
       "       'reviews_per_month', 'calculated_host_listings_count',\n",
       "       'availability_365'],\n",
       "      dtype='object')"
      ]
     },
     "execution_count": 47,
     "metadata": {},
     "output_type": "execute_result"
    }
   ],
   "source": [
    "listing_df.columns"
   ]
  },
  {
   "cell_type": "code",
   "execution_count": 48,
   "metadata": {},
   "outputs": [],
   "source": [
    "# This function returns the neighbourhood with highest availiablity under given average price point\n",
    "def Price_value(listings_df,price = 2000,room_type= 'Shared room', ):\n",
    "    '''\n",
    "    This function returns the neighbourhood with highest availiablity under given average price point\n",
    "    \n",
    "    INPUT:\n",
    "         listing_df = The listing dataframe with target city.\n",
    "         price = The price point you could afford(in USD-United States Dollar).\n",
    "    \n",
    "    OUTPUT:\n",
    "         Neighbourhood = The neighbourhood that you should visit at the given \n",
    "                            price point with highest average availability.\n",
    "    '''\n",
    "    price_value\n",
    "     "
   ]
  },
  {
   "cell_type": "code",
   "execution_count": 50,
   "metadata": {},
   "outputs": [],
   "source": [
    "listing_df.drop( columns=['neighbourhood_group'],inplace=True)"
   ]
  },
  {
   "cell_type": "code",
   "execution_count": 52,
   "metadata": {},
   "outputs": [
    {
     "data": {
      "text/plain": [
       "<matplotlib.axes._subplots.AxesSubplot at 0x12c07610>"
      ]
     },
     "execution_count": 52,
     "metadata": {},
     "output_type": "execute_result"
    },
    {
     "data": {
      "image/png": "[encoded data removed]",
      "text/plain": [
       "<Figure size 1152x648 with 2 Axes>"
      ]
     },
     "metadata": {
      "needs_background": "light"
     },
     "output_type": "display_data"
    }
   ],
   "source": [
    "plt.figure(figsize=(16,9))\n",
    "sns.heatmap(listing_df.corr(),cmap='coolwarm',annot=True)"
   ]
  },
  {
   "cell_type": "code",
   "execution_count": 75,
   "metadata": {},
   "outputs": [],
   "source": [
    "Potential_values = ['host_id','price','minimum_nights','number_of_reviews','reviews_per_month','calculated_host_listings_count','availability_365']"
   ]
  },
  {
   "cell_type": "code",
   "execution_count": 67,
   "metadata": {},
   "outputs": [
    {
     "data": {
      "text/plain": [
       "Index(['id', 'name', 'host_id', 'host_name', 'neighbourhood_group',\n",
       "       'neighbourhood', 'latitude', 'longitude', 'room_type', 'price',\n",
       "       'minimum_nights', 'number_of_reviews', 'last_review',\n",
       "       'reviews_per_month', 'calculated_host_listings_count',\n",
       "       'availability_365'],\n",
       "      dtype='object')"
      ]
     },
     "execution_count": 67,
     "metadata": {},
     "output_type": "execute_result"
    }
   ],
   "source": [
    "listing_df.columns"
   ]
  },
  {
   "cell_type": "code",
   "execution_count": 114,
   "metadata": {},
   "outputs": [
    {
     "data": {
      "text/plain": [
       "<matplotlib.axes._subplots.AxesSubplot at 0x1b125470>"
      ]
     },
     "execution_count": 114,
     "metadata": {},
     "output_type": "execute_result"
    },
    {
     "data": {
      "image/png": "[encoded data removed]",
      "text/plain": [
       "<Figure size 1152x648 with 2 Axes>"
      ]
     },
     "metadata": {
      "needs_background": "light"
     },
     "output_type": "display_data"
    }
   ],
   "source": [
    "potential_df = listing_df[Potential_values]\n",
    "plt.figure(figsize=(16,9))\n",
    "sns.heatmap(potential_df.corr(),cmap='Blues',annot=True)"
   ]
  },
  {
   "cell_type": "code",
   "execution_count": 77,
   "metadata": {},
   "outputs": [],
   "source": [
    "                                                                                                                                                                                                                                                                                                                                                                                                                                                       "
   ]
  },
  {
   "cell_type": "code",
   "execution_count": null,
   "metadata": {},
   "outputs": [],
   "source": []
  },
  {
   "cell_type": "code",
   "execution_count": 122,
   "metadata": {},
   "outputs": [
    {
     "data": {
      "text/plain": [
       "calculated_host_listings_count\n",
       "79    4813.639739\n",
       "45    2934.782193\n",
       "43     930.033740\n",
       "48     930.002325\n",
       "71     930.001703\n",
       "Name: price, dtype: float64"
      ]
     },
     "execution_count": 122,
     "metadata": {},
     "output_type": "execute_result"
    }
   ],
   "source": [
    "listing_df.groupby('calculated_host_listings_count')['price'].mean().sort_values(ascending=False).head()"
   ]
  },
  {
   "cell_type": "code",
   "execution_count": 118,
   "metadata": {},
   "outputs": [
    {
     "data": {
      "text/plain": [
       "258668827    98\n",
       "73463626     79\n",
       "198552582    74\n",
       "261951920    71\n",
       "75820284     59\n",
       "38309930     53\n",
       "279064316    53\n",
       "71735650     48\n",
       "42244167     46\n",
       "232836811    46\n",
       "Name: host_id, dtype: int64"
      ]
     },
     "execution_count": 118,
     "metadata": {},
     "output_type": "execute_result"
    }
   ],
   "source": [
    "listing_df['host_id'].value_counts().head(10)"
   ]
  },
  {
   "cell_type": "code",
   "execution_count": 125,
   "metadata": {},
   "outputs": [
    {
     "name": "stderr",
     "output_type": "stream",
     "text": [
      "C:\\ProgramData\\Miniconda3\\lib\\site-packages\\ipykernel_launcher.py:1: FutureWarning: Indexing with multiple keys (implicitly converted to a tuple of keys) will be deprecated, use a list instead.\n",
      "  \"\"\"Entry point for launching an IPython kernel.\n"
     ]
    },
    {
     "data": {
      "text/html": [
       "<div>\n",
       "<style scoped>\n",
       "    .dataframe tbody tr th:only-of-type {\n",
       "        vertical-align: middle;\n",
       "    }\n",
       "\n",
       "    .dataframe tbody tr th {\n",
       "        vertical-align: top;\n",
       "    }\n",
       "\n",
       "    .dataframe thead th {\n",
       "        text-align: right;\n",
       "    }\n",
       "</style>\n",
       "<table border=\"1\" class=\"dataframe\">\n",
       "  <thead>\n",
       "    <tr style=\"text-align: right;\">\n",
       "      <th></th>\n",
       "      <th>price</th>\n",
       "      <th>number_of_reviews</th>\n",
       "    </tr>\n",
       "    <tr>\n",
       "      <th>host_id</th>\n",
       "      <th></th>\n",
       "      <th></th>\n",
       "    </tr>\n",
       "  </thead>\n",
       "  <tbody>\n",
       "    <tr>\n",
       "      <th>75530047</th>\n",
       "      <td>10.946100</td>\n",
       "      <td>2.400000</td>\n",
       "    </tr>\n",
       "    <tr>\n",
       "      <th>75820284</th>\n",
       "      <td>11.250793</td>\n",
       "      <td>3.271186</td>\n",
       "    </tr>\n",
       "    <tr>\n",
       "      <th>52368880</th>\n",
       "      <td>12.947925</td>\n",
       "      <td>8.250000</td>\n",
       "    </tr>\n",
       "    <tr>\n",
       "      <th>70847203</th>\n",
       "      <td>13.922100</td>\n",
       "      <td>58.000000</td>\n",
       "    </tr>\n",
       "    <tr>\n",
       "      <th>340900041</th>\n",
       "      <td>13.968600</td>\n",
       "      <td>0.000000</td>\n",
       "    </tr>\n",
       "    <tr>\n",
       "      <th>85085398</th>\n",
       "      <td>13.968600</td>\n",
       "      <td>77.000000</td>\n",
       "    </tr>\n",
       "    <tr>\n",
       "      <th>37622083</th>\n",
       "      <td>14.627350</td>\n",
       "      <td>13.000000</td>\n",
       "    </tr>\n",
       "    <tr>\n",
       "      <th>244469585</th>\n",
       "      <td>14.917200</td>\n",
       "      <td>20.000000</td>\n",
       "    </tr>\n",
       "    <tr>\n",
       "      <th>244413919</th>\n",
       "      <td>14.963700</td>\n",
       "      <td>21.000000</td>\n",
       "    </tr>\n",
       "    <tr>\n",
       "      <th>121632339</th>\n",
       "      <td>15.580600</td>\n",
       "      <td>23.888889</td>\n",
       "    </tr>\n",
       "  </tbody>\n",
       "</table>\n",
       "</div>"
      ],
      "text/plain": [
       "               price  number_of_reviews\n",
       "host_id                                \n",
       "75530047   10.946100           2.400000\n",
       "75820284   11.250793           3.271186\n",
       "52368880   12.947925           8.250000\n",
       "70847203   13.922100          58.000000\n",
       "340900041  13.968600           0.000000\n",
       "85085398   13.968600          77.000000\n",
       "37622083   14.627350          13.000000\n",
       "244469585  14.917200          20.000000\n",
       "244413919  14.963700          21.000000\n",
       "121632339  15.580600          23.888889"
      ]
     },
     "execution_count": 125,
     "metadata": {},
     "output_type": "execute_result"
    }
   ],
   "source": [
    "listing_df.groupby('host_id')['price','number_of_reviews'].mean().sort_values(ascending=True,by='price').head(10)"
   ]
  },
  {
   "cell_type": "code",
   "execution_count": null,
   "metadata": {},
   "outputs": [],
   "source": []
  },
  {
   "cell_type": "code",
   "execution_count": null,
   "metadata": {},
   "outputs": [],
   "source": []
  },
  {
   "cell_type": "code",
   "execution_count": null,
   "metadata": {},
   "outputs": [],
   "source": []
  },
  {
   "cell_type": "code",
   "execution_count": null,
   "metadata": {},
   "outputs": [],
   "source": []
  },
  {
   "cell_type": "code",
   "execution_count": null,
   "metadata": {},
   "outputs": [],
   "source": []
  },
  {
   "cell_type": "code",
   "execution_count": null,
   "metadata": {},
   "outputs": [],
   "source": []
  },
  {
   "cell_type": "code",
   "execution_count": null,
   "metadata": {},
   "outputs": [],
   "source": []
  },
  {
   "cell_type": "code",
   "execution_count": null,
   "metadata": {},
   "outputs": [],
   "source": []
  },
  {
   "cell_type": "code",
   "execution_count": null,
   "metadata": {},
   "outputs": [],
   "source": []
  },
  {
   "cell_type": "code",
   "execution_count": null,
   "metadata": {},
   "outputs": [],
   "source": []
  },
  {
   "cell_type": "code",
   "execution_count": null,
   "metadata": {},
   "outputs": [],
   "source": []
  },
  {
   "cell_type": "code",
   "execution_count": null,
   "metadata": {},
   "outputs": [],
   "source": []
  },
  {
   "cell_type": "code",
   "execution_count": null,
   "metadata": {},
   "outputs": [],
   "source": []
  }
 ],
 "metadata": {
  "kernelspec": {
   "display_name": "Python 3",
   "language": "python",
   "name": "python3"
  },
  "language_info": {
   "codemirror_mode": {
    "name": "ipython",
    "version": 3
   },
   "file_extension": ".py",
   "mimetype": "text/x-python",
   "name": "python",
   "nbconvert_exporter": "python",
   "pygments_lexer": "ipython3",
   "version": "3.7.6"
  }
 },
 "nbformat": 4,
 "nbformat_minor": 4
}
